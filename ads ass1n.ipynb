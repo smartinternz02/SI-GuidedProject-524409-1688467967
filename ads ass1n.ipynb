{
  "nbformat": 4,
  "nbformat_minor": 0,
  "metadata": {
    "colab": {
      "provenance": []
    },
    "kernelspec": {
      "name": "python3",
      "display_name": "Python 3"
    },
    "language_info": {
      "name": "python"
    }
  },
  "cells": [
    {
      "cell_type": "code",
      "source": [
        "Name=\"sirisha\"\n",
        "age=\"20\"\n",
        "\n",
        "print(Name)\n",
        "print(age)"
      ],
      "metadata": {
        "id": "14O5rvyfWJ69",
        "colab": {
          "base_uri": "https://localhost:8080/"
        },
        "outputId": "7128f63e-de8a-4ea7-9aee-50170ff51b22"
      },
      "execution_count": null,
      "outputs": [
        {
          "output_type": "stream",
          "name": "stdout",
          "text": [
            "sirisha\n",
            "20\n"
          ]
        }
      ]
    },
    {
      "cell_type": "code",
      "source": [
        "X= \"Datascience is used to extract meaningful insight\"\n",
        "split=X.split()\n",
        "print(split)"
      ],
      "metadata": {
        "colab": {
          "base_uri": "https://localhost:8080/"
        },
        "id": "3j4jMIaAbd5W",
        "outputId": "1432fc87-5773-406c-ce6d-4dfc79b1f535"
      },
      "execution_count": null,
      "outputs": [
        {
          "output_type": "stream",
          "name": "stdout",
          "text": [
            "['Datascience', 'is', 'used', 'to', 'extract', 'meaningful', 'insight']\n"
          ]
        }
      ]
    },
    {
      "cell_type": "code",
      "source": [
        "\n",
        "def multiply(a,b):\n",
        "  result= a*b\n",
        "  return result"
      ],
      "metadata": {
        "id": "oLchhz8KcCNk"
      },
      "execution_count": null,
      "outputs": []
    },
    {
      "cell_type": "code",
      "source": [
        "n1=10\n",
        "n2=12\n",
        "mul_result= multiply(n1,n2)\n",
        "print(mul_result)"
      ],
      "metadata": {
        "colab": {
          "base_uri": "https://localhost:8080/"
        },
        "id": "6pMEEvRJceEt",
        "outputId": "d0b74496-507d-4856-f7a8-3e197069fdcf"
      },
      "execution_count": null,
      "outputs": [
        {
          "output_type": "stream",
          "name": "stdout",
          "text": [
            "120\n"
          ]
        }
      ]
    },
    {
      "cell_type": "code",
      "source": [
        "countries_capitals= {\n",
        "    \"india\": \"new delhi\",\n",
        "    \"united states\":\"washington, D.C\",\n",
        "    \"germany\": \"berlin\",\n",
        "    \"japan\" : \"tokyo\"\n",
        "\n",
        "}"
      ],
      "metadata": {
        "id": "7Wy6V_4ZcoKg"
      },
      "execution_count": null,
      "outputs": []
    },
    {
      "cell_type": "code",
      "source": [
        "print(\"country names:\")\n",
        "for country in countries_capitals:\n",
        "  print(country)\n",
        "\n",
        "print(\"\\ncapital cities:\")\n",
        "for capital in countries_capitals.values():\n",
        "  print(capital)\n",
        "\n",
        "print(\"\\ncountry-capital pairs\")\n",
        "for country, capital in countries_capitals.items():\n",
        "  print(country, \"-\", capital)"
      ],
      "metadata": {
        "colab": {
          "base_uri": "https://localhost:8080/"
        },
        "id": "YVeQyT0gdvie",
        "outputId": "132e0d62-0628-4233-837f-affecaf94de8"
      },
      "execution_count": null,
      "outputs": [
        {
          "output_type": "stream",
          "name": "stdout",
          "text": [
            "country names:\n",
            "india\n",
            "united states\n",
            "germany\n",
            "japan\n",
            "\n",
            "capital cities:\n",
            "new delhi\n",
            "washington, D.C\n",
            "berlin\n",
            "tokyo\n",
            "\n",
            "country-capital pairs\n",
            "india - new delhi\n",
            "united states - washington, D.C\n",
            "germany - berlin\n",
            "japan - tokyo\n"
          ]
        }
      ]
    },
    {
      "cell_type": "code",
      "source": [
        "def create_identity_matrix(n):\n",
        "  matrix = [[0] * n for _ in range(n)]\n",
        "  for i in range(n):\n",
        "    matrix[i][i]=1\n",
        "  return matrix\n",
        "\n",
        "identity_matrix= create_identity_matrix(4)\n",
        "\n",
        "for row in identity_matrix:\n",
        "  print(row)\n",
        "\n",
        "   "
      ],
      "metadata": {
        "colab": {
          "base_uri": "https://localhost:8080/"
        },
        "id": "8SPifKVBed1J",
        "outputId": "e7f4da93-5e96-4c5a-9463-daaa190c8516"
      },
      "execution_count": null,
      "outputs": [
        {
          "output_type": "stream",
          "name": "stdout",
          "text": [
            "[1, 0, 0, 0]\n",
            "[0, 1, 0, 0]\n",
            "[0, 0, 1, 0]\n",
            "[0, 0, 0, 1]\n"
          ]
        }
      ]
    },
    {
      "cell_type": "code",
      "source": [
        "import numpy as np\n",
        "\n",
        "identity_matrix=np.eye(4)\n",
        "print(identity_matrix)"
      ],
      "metadata": {
        "colab": {
          "base_uri": "https://localhost:8080/"
        },
        "id": "BvhpikcQoOgO",
        "outputId": "d33c0ce4-3b41-4ba1-8496-dbc95208bd45"
      },
      "execution_count": null,
      "outputs": [
        {
          "output_type": "stream",
          "name": "stdout",
          "text": [
            "[[1. 0. 0. 0.]\n",
            " [0. 1. 0. 0.]\n",
            " [0. 0. 1. 0.]\n",
            " [0. 0. 0. 1.]]\n"
          ]
        }
      ]
    },
    {
      "cell_type": "code",
      "source": [
        "def create_matrix():\n",
        "  matrix= [[0] * 3 for _ in range(3)]\n",
        "\n",
        "  value=1\n",
        "  for i in range(3):\n",
        "    for j in range(3):\n",
        "      matrix[i][j] = value\n",
        "      value+=1\n",
        "  return matrix\n",
        "\n",
        "matrix= create_matrix()\n",
        "\n",
        "for row in matrix:\n",
        "  print(row)\n",
        "   "
      ],
      "metadata": {
        "colab": {
          "base_uri": "https://localhost:8080/"
        },
        "id": "TOBxiSXwo97U",
        "outputId": "bff66079-a1d8-42c3-d8d8-c4f5989fa28f"
      },
      "execution_count": null,
      "outputs": [
        {
          "output_type": "stream",
          "name": "stdout",
          "text": [
            "[1, 2, 3]\n",
            "[4, 5, 6]\n",
            "[7, 8, 9]\n"
          ]
        }
      ]
    },
    {
      "cell_type": "code",
      "source": [
        "def sum_array(array1, array2):\n",
        "  rows= len(array1)\n",
        "  cols=len(array1[0])\n",
        "\n",
        "  result= [[0] * cols for _ in range(rows)]\n",
        "  for i in range(rows):\n",
        "    for j in range(cols):\n",
        "      result[i][j]= array1[i][j] + array2[i][j]\n",
        "  return result\n",
        "\n",
        "array1= [[1,2,3],[4,5,6],[7,8,9]]\n",
        "array2=[[9,8,7],[6,5,4],[3,2,1]]\n",
        "\n",
        "sum_result= sum_array(array1,array2)\n",
        "\n",
        "\n",
        "for row in sum_result:\n",
        "  print(row)"
      ],
      "metadata": {
        "colab": {
          "base_uri": "https://localhost:8080/"
        },
        "id": "0eN4bIhWpRZ9",
        "outputId": "4fad84e2-4cd5-45d3-ecb4-f6767f511631"
      },
      "execution_count": null,
      "outputs": [
        {
          "output_type": "stream",
          "name": "stdout",
          "text": [
            "[10, 10, 10]\n",
            "[10, 10, 10]\n",
            "[10, 10, 10]\n"
          ]
        }
      ]
    },
    {
      "cell_type": "code",
      "source": [
        "from datetime import datetime, timedelta\n",
        "\n",
        "start_date = datetime(2023,2,1)\n",
        "end_date = datetime(2023,3,1)\n",
        "\n",
        "current_date = start_date\n",
        "while current_date <= end_date:\n",
        "  print(current_date.strftime(\"%Y-%m-%Dd\"))\n",
        "  current_date+= timedelta(days=1)"
      ],
      "metadata": {
        "colab": {
          "base_uri": "https://localhost:8080/"
        },
        "id": "BNDZ-zPhquCa",
        "outputId": "25609542-d170-4481-a694-e573b25251b5"
      },
      "execution_count": null,
      "outputs": [
        {
          "output_type": "stream",
          "name": "stdout",
          "text": [
            "2023-02-02/01/23d\n",
            "2023-02-02/02/23d\n",
            "2023-02-02/03/23d\n",
            "2023-02-02/04/23d\n",
            "2023-02-02/05/23d\n",
            "2023-02-02/06/23d\n",
            "2023-02-02/07/23d\n",
            "2023-02-02/08/23d\n",
            "2023-02-02/09/23d\n",
            "2023-02-02/10/23d\n",
            "2023-02-02/11/23d\n",
            "2023-02-02/12/23d\n",
            "2023-02-02/13/23d\n",
            "2023-02-02/14/23d\n",
            "2023-02-02/15/23d\n",
            "2023-02-02/16/23d\n",
            "2023-02-02/17/23d\n",
            "2023-02-02/18/23d\n",
            "2023-02-02/19/23d\n",
            "2023-02-02/20/23d\n",
            "2023-02-02/21/23d\n",
            "2023-02-02/22/23d\n",
            "2023-02-02/23/23d\n",
            "2023-02-02/24/23d\n",
            "2023-02-02/25/23d\n",
            "2023-02-02/26/23d\n",
            "2023-02-02/27/23d\n",
            "2023-02-02/28/23d\n",
            "2023-03-03/01/23d\n"
          ]
        }
      ]
    },
    {
      "cell_type": "code",
      "source": [
        "import pandas as pd\n",
        "dictionary= {'brand': ['maruti','renault', 'hyundai'],'sales':[250,200,240]}\n",
        "df= pd.DataFrame(dictionary)\n",
        "print(df)"
      ],
      "metadata": {
        "colab": {
          "base_uri": "https://localhost:8080/"
        },
        "id": "6WDirQoOrfuP",
        "outputId": "773d8fea-e803-4ffc-c548-2a931c588ca6"
      },
      "execution_count": null,
      "outputs": [
        {
          "output_type": "stream",
          "name": "stdout",
          "text": [
            "     brand  sales\n",
            "0   maruti    250\n",
            "1  renault    200\n",
            "2  hyundai    240\n"
          ]
        }
      ]
    },
    {
      "cell_type": "code",
      "source": [],
      "metadata": {
        "id": "FodwnP-4TX7M"
      },
      "execution_count": null,
      "outputs": []
    }
  ]
}